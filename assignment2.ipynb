{
 "cells": [
  {
   "cell_type": "markdown",
   "metadata": {},
   "source": [
    "Name : Prince Titiya\n",
    "\n",
    "ID   : 202318010    "
   ]
  },
  {
   "cell_type": "code",
   "execution_count": 1,
   "metadata": {},
   "outputs": [
    {
     "name": "stdout",
     "output_type": "stream",
     "text": [
      "Defaulting to user installation because normal site-packages is not writeable\n",
      "Requirement already satisfied: scikit-learn in /home/prince/.local/lib/python3.10/site-packages (1.4.0)\n",
      "Requirement already satisfied: numpy<2.0,>=1.19.5 in /home/prince/.local/lib/python3.10/site-packages (from scikit-learn) (1.26.3)\n",
      "Requirement already satisfied: scipy>=1.6.0 in /usr/local/lib/python3.10/dist-packages (from scikit-learn) (1.11.4)\n",
      "Requirement already satisfied: joblib>=1.2.0 in /usr/local/lib/python3.10/dist-packages (from scikit-learn) (1.3.2)\n",
      "Requirement already satisfied: threadpoolctl>=2.0.0 in /usr/local/lib/python3.10/dist-packages (from scikit-learn) (3.2.0)\n",
      "Note: you may need to restart the kernel to use updated packages.\n"
     ]
    }
   ],
   "source": [
    "pip install -U  scikit-learn"
   ]
  },
  {
   "cell_type": "code",
   "execution_count": 2,
   "metadata": {},
   "outputs": [
    {
     "name": "stdout",
     "output_type": "stream",
     "text": [
      "  (0, 86416)\t0.14330464297977982\n",
      "  (0, 35135)\t0.10188109676312235\n",
      "  (0, 65968)\t0.10658183340971177\n",
      "  (0, 114195)\t0.06002582888934523\n",
      "  (0, 78809)\t0.06524029473980168\n",
      "  (0, 76578)\t0.0752490171119318\n",
      "  (0, 57203)\t0.16977226500364592\n",
      "  (0, 67023)\t0.07965653370342658\n",
      "  (0, 63238)\t0.09086750717799585\n",
      "  (0, 95944)\t0.11792442679286105\n",
      "  (0, 127721)\t0.0660283455431985\n",
      "  (0, 109044)\t0.11811852219269026\n",
      "  (0, 51651)\t0.10581100308545811\n",
      "  (0, 83103)\t0.09633120317294654\n",
      "  (0, 113755)\t0.1926949257821117\n",
      "  (0, 73061)\t0.04662587301170703\n",
      "  (0, 34131)\t0.09493746671845804\n",
      "  (0, 101175)\t0.08899924936054199\n",
      "  (0, 105907)\t0.10749912859686628\n",
      "  (0, 35560)\t0.1446512460011004\n",
      "  (0, 26070)\t0.10385185139503332\n",
      "  (0, 108033)\t0.08197182211166716\n",
      "  (0, 99619)\t0.06171903092868097\n",
      "  (0, 48552)\t0.1263844988551673\n",
      "  (0, 34943)\t0.18203649549572573\n",
      "  :\t:\n",
      "  (11313, 106061)\t0.11739285034416508\n",
      "  (11313, 67469)\t0.07888902121089117\n",
      "  (11313, 63763)\t0.11511167728184264\n",
      "  (11313, 37359)\t0.16552340600580592\n",
      "  (11313, 116769)\t0.08740758023936664\n",
      "  (11313, 72166)\t0.10891263256743795\n",
      "  (11313, 11390)\t0.14477754748280827\n",
      "  (11313, 60694)\t0.08134974610767784\n",
      "  (11313, 113581)\t0.0749042118526549\n",
      "  (11313, 62582)\t0.0632144659864555\n",
      "  (11313, 3411)\t0.07079755573089706\n",
      "  (11313, 76233)\t0.06469398052315968\n",
      "  (11313, 119441)\t0.060284105803626004\n",
      "  (11313, 47916)\t0.049639180787655675\n",
      "  (11313, 88185)\t0.14159511146179413\n",
      "  (11313, 111466)\t0.08179695308516817\n",
      "  (11313, 51651)\t0.10242810228694169\n",
      "  (11313, 4605)\t0.06676826497088761\n",
      "  (11313, 75888)\t0.020264179021749786\n",
      "  (11313, 90192)\t0.021012136747188718\n",
      "  (11313, 63970)\t0.037346306116846265\n",
      "  (11313, 94962)\t0.03634515160466896\n",
      "  (11313, 87451)\t0.037610885317695526\n",
      "  (11313, 111094)\t0.020198023351223362\n",
      "  (11313, 50455)\t0.057582965641085816\n",
      "\n",
      "shape of matrix: (11314, 129796)\n",
      "\n",
      "Cosine Similarity Score between document 56 and 10: 0.0054\n"
     ]
    }
   ],
   "source": [
    "from sklearn.feature_extraction.text import TfidfVectorizer\n",
    "from sklearn.datasets import fetch_20newsgroups\n",
    "from sklearn.metrics.pairwise import cosine_similarity\n",
    "\n",
    "\n",
    "data = fetch_20newsgroups()\n",
    "vectorizer = TfidfVectorizer(stop_words='english')\n",
    "\n",
    "# Fit and transform the documents into TF-IDF vectors\n",
    "matrix = vectorizer.fit_transform(data.data)\n",
    "print(matrix)\n",
    "print(\"\\nshape of matrix:\",matrix.shape)\n",
    "\n",
    "def calculate_cosine_similarity(vector1, vector2):\n",
    "    return cosine_similarity(vector1, vector2)[0][0]\n",
    "\n",
    "# Choose two indices from the dataset\n",
    "index1 = 56 \n",
    "index2 = 10  \n",
    "\n",
    "d1 = data.data[index1]\n",
    "d2 = data.data[index2]\n",
    "\n",
    "vector1 = vectorizer.transform([d1])\n",
    "vector2 = vectorizer.transform([d2])\n",
    "\n",
    "# Ccosine similarity between the two vectors\n",
    "similarity_score = calculate_cosine_similarity(vector1, vector2)\n",
    "print(f\"\\nCosine Similarity Score between document {index1} and {index2}: {similarity_score:.4f}\")\n"
   ]
  }
 ],
 "metadata": {
  "kernelspec": {
   "display_name": "Python 3",
   "language": "python",
   "name": "python3"
  },
  "language_info": {
   "codemirror_mode": {
    "name": "ipython",
    "version": 3
   },
   "file_extension": ".py",
   "mimetype": "text/x-python",
   "name": "python",
   "nbconvert_exporter": "python",
   "pygments_lexer": "ipython3",
   "version": "3.10.12"
  }
 },
 "nbformat": 4,
 "nbformat_minor": 2
}
